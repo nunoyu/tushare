{
 "cells": [
  {
   "cell_type": "code",
   "execution_count": null,
   "metadata": {
    "collapsed": true
   },
   "outputs": [],
   "source": [
    "import pip\n",
    "import sys\n",
    "\n",
    "if sys.version_info.major >= 3:\n",
    "    from io import StringIO\n",
    "else:\n",
    "    from StringIO import StringIO\n",
    "\n",
    "\n",
    "def get_version(package):\n",
    "    f = StringIO()\n",
    "    sys.stdout = f\n",
    "    pip.main([\"show\", package])\n",
    "    sys.stdout = sys.__stdout__\n",
    "    return next((line.split(\":\", 1)[1].strip()\n",
    "                 for line in f.getvalue().splitlines() if line.startswith(\"Version\")), \"No match\")\n",
    "get_version(\"tushare\")"
   ]
  }
 ],
 "metadata": {
  "kernelspec": {
   "display_name": "Python 2",
   "language": "python",
   "name": "python2"
  },
  "language_info": {
   "codemirror_mode": {
    "name": "ipython",
    "version": 2
   },
   "file_extension": ".py",
   "mimetype": "text/x-python",
   "name": "python",
   "nbconvert_exporter": "python",
   "pygments_lexer": "ipython2",
   "version": "2.7.12"
  }
 },
 "nbformat": 4,
 "nbformat_minor": 0
}
