{
 "cells": [
  {
   "cell_type": "markdown",
   "metadata": {},
   "source": [
    "一般来说，具备高送转预期的个股，都具有总市值低、每股公积金高、每股收益大，流通股本少的特点。当然，也还有其它的因素，比如当前股价、经营收益变动情况、以及以往分红送股习惯等等。\n",
    "\n",
    "这里我们暂时只考虑每股公积金、每股收益、流通股本和总市值四个因素，将公积金大于等于5元，每股收益大于等于5毛，流通股本在3亿以下，总市值在100亿以内作为高送转预期目标（这些参数大家可根据自己的经验随意调整）。"
   ]
  },
  {
   "cell_type": "code",
   "execution_count": 4,
   "metadata": {
    "collapsed": true
   },
   "outputs": [],
   "source": [
    "import tushare as ts"
   ]
  },
  {
   "cell_type": "code",
   "execution_count": 6,
   "metadata": {
    "collapsed": false
   },
   "outputs": [
    {
     "name": "stdout",
     "output_type": "stream",
     "text": [
      "[Getting data:]#####################################"
     ]
    }
   ],
   "source": [
    "#调取基本面数据\n",
    "basic =  ts.get_stock_basics()\n",
    "#行情和市值数据\n",
    "hq = ts.get_today_all()"
   ]
  },
  {
   "cell_type": "code",
   "execution_count": 11,
   "metadata": {
    "collapsed": false
   },
   "outputs": [],
   "source": [
    "#数据清理\n",
    "#如果停牌，将当前股价定义为上一个交易日股价\n",
    "hq['trade'] = hq.apply(lambda x:x.settlement if x.trade==0 else x.trade, axis=1)"
   ]
  },
  {
   "cell_type": "code",
   "execution_count": 15,
   "metadata": {
    "collapsed": true
   },
   "outputs": [],
   "source": [
    "#只选取流通股股本，总股本， 每股公积金，每股收益\n",
    "basedata = basic[['outstanding', 'totals', 'reservedPerShare', 'esp']]\n",
    "#只选取股票代码, 名称，当前价格，总市值，流通市值\n",
    "hqdata = hq[['code', 'name', 'trade', 'mktcap', 'nmc']]\n",
    "#将行情数据的code设为index\n",
    "hqdata = hqdata.set_index('code')\n",
    "\n",
    "#合并两个数据表（目前index都是code了）\n",
    "data = basedata.merge(hqdata, left_index=True, right_index=True)\n"
   ]
  },
  {
   "cell_type": "code",
   "execution_count": 17,
   "metadata": {
    "collapsed": false
   },
   "outputs": [],
   "source": [
    "#将市值换算成亿\n",
    "data['mktcap'] = data['mktcap'] / 10000\n",
    "data['nmc'] = data['nmc'] / 10000"
   ]
  },
  {
   "cell_type": "code",
   "execution_count": 22,
   "metadata": {
    "collapsed": true
   },
   "outputs": [],
   "source": [
    "#公积金大于5 \n",
    "res = data.reservedPerShare >= 5\n",
    "#流通股本小于3亿股\n",
    "out = data.outstanding <= 30000\n",
    "#每股收益大于5毛\n",
    "eps = data.esp >= 0.5\n",
    "#总市值小于100亿\n",
    "mktcap = data.mktcap <= 100"
   ]
  },
  {
   "cell_type": "code",
   "execution_count": 23,
   "metadata": {
    "collapsed": false
   },
   "outputs": [],
   "source": [
    "#取并集\n",
    "allcrit = res & out & eps & mktcap"
   ]
  },
  {
   "cell_type": "code",
   "execution_count": 26,
   "metadata": {
    "collapsed": false
   },
   "outputs": [
    {
     "data": {
      "text/html": [
       "<div>\n",
       "<table border=\"1\" class=\"dataframe\">\n",
       "  <thead>\n",
       "    <tr style=\"text-align: right;\">\n",
       "      <th></th>\n",
       "      <th>outstanding</th>\n",
       "      <th>totals</th>\n",
       "      <th>reservedPerShare</th>\n",
       "      <th>esp</th>\n",
       "      <th>name</th>\n",
       "      <th>trade</th>\n",
       "      <th>mktcap</th>\n",
       "      <th>nmc</th>\n",
       "    </tr>\n",
       "    <tr>\n",
       "      <th>code</th>\n",
       "      <th></th>\n",
       "      <th></th>\n",
       "      <th></th>\n",
       "      <th></th>\n",
       "      <th></th>\n",
       "      <th></th>\n",
       "      <th></th>\n",
       "      <th></th>\n",
       "    </tr>\n",
       "  </thead>\n",
       "  <tbody>\n",
       "    <tr>\n",
       "      <th>600419</th>\n",
       "      <td>8332.04</td>\n",
       "      <td>10355.71</td>\n",
       "      <td>5.86</td>\n",
       "      <td>0.721</td>\n",
       "      <td>天润乳业</td>\n",
       "      <td>57.99</td>\n",
       "      <td>60.052825</td>\n",
       "      <td>48.317487</td>\n",
       "    </tr>\n",
       "    <tr>\n",
       "      <th>300547</th>\n",
       "      <td>1495.00</td>\n",
       "      <td>5977.91</td>\n",
       "      <td>5.36</td>\n",
       "      <td>1.210</td>\n",
       "      <td>川环科技</td>\n",
       "      <td>114.34</td>\n",
       "      <td>68.351554</td>\n",
       "      <td>17.093830</td>\n",
       "    </tr>\n",
       "    <tr>\n",
       "      <th>300543</th>\n",
       "      <td>1500.00</td>\n",
       "      <td>6000.00</td>\n",
       "      <td>5.50</td>\n",
       "      <td>1.360</td>\n",
       "      <td>朗科智能</td>\n",
       "      <td>137.47</td>\n",
       "      <td>82.482000</td>\n",
       "      <td>20.620500</td>\n",
       "    </tr>\n",
       "    <tr>\n",
       "      <th>300535</th>\n",
       "      <td>1494.00</td>\n",
       "      <td>5974.00</td>\n",
       "      <td>5.26</td>\n",
       "      <td>0.840</td>\n",
       "      <td>达威股份</td>\n",
       "      <td>103.47</td>\n",
       "      <td>61.812978</td>\n",
       "      <td>15.458418</td>\n",
       "    </tr>\n",
       "    <tr>\n",
       "      <th>300507</th>\n",
       "      <td>1667.00</td>\n",
       "      <td>6667.00</td>\n",
       "      <td>5.36</td>\n",
       "      <td>1.130</td>\n",
       "      <td>苏奥传感</td>\n",
       "      <td>136.84</td>\n",
       "      <td>91.231228</td>\n",
       "      <td>22.811228</td>\n",
       "    </tr>\n",
       "    <tr>\n",
       "      <th>300501</th>\n",
       "      <td>1338.00</td>\n",
       "      <td>5338.00</td>\n",
       "      <td>5.99</td>\n",
       "      <td>0.950</td>\n",
       "      <td>海顺新材</td>\n",
       "      <td>130.02</td>\n",
       "      <td>69.404676</td>\n",
       "      <td>17.396676</td>\n",
       "    </tr>\n",
       "    <tr>\n",
       "      <th>300500</th>\n",
       "      <td>1500.00</td>\n",
       "      <td>6150.00</td>\n",
       "      <td>7.07</td>\n",
       "      <td>0.660</td>\n",
       "      <td>苏州设计</td>\n",
       "      <td>111.99</td>\n",
       "      <td>68.873850</td>\n",
       "      <td>16.798500</td>\n",
       "    </tr>\n",
       "    <tr>\n",
       "      <th>300473</th>\n",
       "      <td>4674.83</td>\n",
       "      <td>10000.00</td>\n",
       "      <td>9.92</td>\n",
       "      <td>0.897</td>\n",
       "      <td>德尔股份</td>\n",
       "      <td>78.12</td>\n",
       "      <td>78.120000</td>\n",
       "      <td>36.519811</td>\n",
       "    </tr>\n",
       "    <tr>\n",
       "      <th>300471</th>\n",
       "      <td>8693.78</td>\n",
       "      <td>14830.79</td>\n",
       "      <td>6.45</td>\n",
       "      <td>0.603</td>\n",
       "      <td>厚普股份</td>\n",
       "      <td>48.93</td>\n",
       "      <td>72.567104</td>\n",
       "      <td>42.538861</td>\n",
       "    </tr>\n",
       "    <tr>\n",
       "      <th>300443</th>\n",
       "      <td>5711.04</td>\n",
       "      <td>11902.83</td>\n",
       "      <td>6.74</td>\n",
       "      <td>1.160</td>\n",
       "      <td>金雷风电</td>\n",
       "      <td>67.49</td>\n",
       "      <td>80.332268</td>\n",
       "      <td>38.543854</td>\n",
       "    </tr>\n",
       "    <tr>\n",
       "      <th>300196</th>\n",
       "      <td>10693.03</td>\n",
       "      <td>21224.80</td>\n",
       "      <td>5.58</td>\n",
       "      <td>0.915</td>\n",
       "      <td>长海股份</td>\n",
       "      <td>40.30</td>\n",
       "      <td>85.535959</td>\n",
       "      <td>47.445323</td>\n",
       "    </tr>\n",
       "    <tr>\n",
       "      <th>002809</th>\n",
       "      <td>2000.00</td>\n",
       "      <td>8000.00</td>\n",
       "      <td>5.43</td>\n",
       "      <td>0.790</td>\n",
       "      <td>红墙股份</td>\n",
       "      <td>90.48</td>\n",
       "      <td>72.384000</td>\n",
       "      <td>18.096000</td>\n",
       "    </tr>\n",
       "    <tr>\n",
       "      <th>002789</th>\n",
       "      <td>2030.00</td>\n",
       "      <td>8120.00</td>\n",
       "      <td>7.52</td>\n",
       "      <td>0.740</td>\n",
       "      <td>建艺集团</td>\n",
       "      <td>91.96</td>\n",
       "      <td>74.671520</td>\n",
       "      <td>18.667880</td>\n",
       "    </tr>\n",
       "    <tr>\n",
       "      <th>002788</th>\n",
       "      <td>3205.00</td>\n",
       "      <td>12816.87</td>\n",
       "      <td>5.07</td>\n",
       "      <td>0.650</td>\n",
       "      <td>鹭燕医药</td>\n",
       "      <td>74.75</td>\n",
       "      <td>95.806178</td>\n",
       "      <td>23.957375</td>\n",
       "    </tr>\n",
       "    <tr>\n",
       "      <th>002783</th>\n",
       "      <td>2087.00</td>\n",
       "      <td>8347.00</td>\n",
       "      <td>6.34</td>\n",
       "      <td>1.012</td>\n",
       "      <td>凯龙股份</td>\n",
       "      <td>105.30</td>\n",
       "      <td>87.893910</td>\n",
       "      <td>21.976110</td>\n",
       "    </tr>\n",
       "    <tr>\n",
       "      <th>002718</th>\n",
       "      <td>2096.00</td>\n",
       "      <td>8763.19</td>\n",
       "      <td>5.14</td>\n",
       "      <td>1.010</td>\n",
       "      <td>友邦吊顶</td>\n",
       "      <td>87.98</td>\n",
       "      <td>77.098533</td>\n",
       "      <td>18.440608</td>\n",
       "    </tr>\n",
       "    <tr>\n",
       "      <th>002649</th>\n",
       "      <td>13202.95</td>\n",
       "      <td>17679.19</td>\n",
       "      <td>7.07</td>\n",
       "      <td>0.690</td>\n",
       "      <td>博彦科技</td>\n",
       "      <td>47.85</td>\n",
       "      <td>84.594972</td>\n",
       "      <td>63.176139</td>\n",
       "    </tr>\n",
       "    <tr>\n",
       "      <th>002620</th>\n",
       "      <td>9375.19</td>\n",
       "      <td>14500.00</td>\n",
       "      <td>9.41</td>\n",
       "      <td>0.590</td>\n",
       "      <td>瑞和股份</td>\n",
       "      <td>59.30</td>\n",
       "      <td>85.985000</td>\n",
       "      <td>55.594857</td>\n",
       "    </tr>\n",
       "  </tbody>\n",
       "</table>\n",
       "</div>"
      ],
      "text/plain": [
       "        outstanding    totals  reservedPerShare    esp  name   trade  \\\n",
       "code                                                                   \n",
       "600419      8332.04  10355.71              5.86  0.721  天润乳业   57.99   \n",
       "300547      1495.00   5977.91              5.36  1.210  川环科技  114.34   \n",
       "300543      1500.00   6000.00              5.50  1.360  朗科智能  137.47   \n",
       "300535      1494.00   5974.00              5.26  0.840  达威股份  103.47   \n",
       "300507      1667.00   6667.00              5.36  1.130  苏奥传感  136.84   \n",
       "300501      1338.00   5338.00              5.99  0.950  海顺新材  130.02   \n",
       "300500      1500.00   6150.00              7.07  0.660  苏州设计  111.99   \n",
       "300473      4674.83  10000.00              9.92  0.897  德尔股份   78.12   \n",
       "300471      8693.78  14830.79              6.45  0.603  厚普股份   48.93   \n",
       "300443      5711.04  11902.83              6.74  1.160  金雷风电   67.49   \n",
       "300196     10693.03  21224.80              5.58  0.915  长海股份   40.30   \n",
       "002809      2000.00   8000.00              5.43  0.790  红墙股份   90.48   \n",
       "002789      2030.00   8120.00              7.52  0.740  建艺集团   91.96   \n",
       "002788      3205.00  12816.87              5.07  0.650  鹭燕医药   74.75   \n",
       "002783      2087.00   8347.00              6.34  1.012  凯龙股份  105.30   \n",
       "002718      2096.00   8763.19              5.14  1.010  友邦吊顶   87.98   \n",
       "002649     13202.95  17679.19              7.07  0.690  博彦科技   47.85   \n",
       "002620      9375.19  14500.00              9.41  0.590  瑞和股份   59.30   \n",
       "\n",
       "           mktcap        nmc  \n",
       "code                          \n",
       "600419  60.052825  48.317487  \n",
       "300547  68.351554  17.093830  \n",
       "300543  82.482000  20.620500  \n",
       "300535  61.812978  15.458418  \n",
       "300507  91.231228  22.811228  \n",
       "300501  69.404676  17.396676  \n",
       "300500  68.873850  16.798500  \n",
       "300473  78.120000  36.519811  \n",
       "300471  72.567104  42.538861  \n",
       "300443  80.332268  38.543854  \n",
       "300196  85.535959  47.445323  \n",
       "002809  72.384000  18.096000  \n",
       "002789  74.671520  18.667880  \n",
       "002788  95.806178  23.957375  \n",
       "002783  87.893910  21.976110  \n",
       "002718  77.098533  18.440608  \n",
       "002649  84.594972  63.176139  \n",
       "002620  85.985000  55.594857  "
      ]
     },
     "execution_count": 26,
     "metadata": {},
     "output_type": "execute_result"
    }
   ],
   "source": [
    "#调取结果\n",
    "selected = data[allcrit]\n",
    "selected"
   ]
  },
  {
   "cell_type": "code",
   "execution_count": 33,
   "metadata": {
    "collapsed": false
   },
   "outputs": [],
   "source": [
    "selected.to_excel(u'高转送.xls')"
   ]
  },
  {
   "cell_type": "code",
   "execution_count": null,
   "metadata": {
    "collapsed": true
   },
   "outputs": [],
   "source": []
  }
 ],
 "metadata": {
  "anaconda-cloud": {},
  "kernelspec": {
   "display_name": "Python [default]",
   "language": "python",
   "name": "python3"
  },
  "language_info": {
   "codemirror_mode": {
    "name": "ipython",
    "version": 3
   },
   "file_extension": ".py",
   "mimetype": "text/x-python",
   "name": "python",
   "nbconvert_exporter": "python",
   "pygments_lexer": "ipython3",
   "version": "3.5.2"
  }
 },
 "nbformat": 4,
 "nbformat_minor": 0
}
