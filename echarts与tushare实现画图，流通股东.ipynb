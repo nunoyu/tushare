{
 "cells": [
  {
   "cell_type": "code",
   "execution_count": 1,
   "metadata": {
    "collapsed": false
   },
   "outputs": [],
   "source": [
    "import tushare as ts\n",
    "import pandas as pd\n",
    "from IPython.display import HTML\n"
   ]
  },
  {
   "cell_type": "markdown",
   "metadata": {},
   "source": [
    "1、线图效果（关系图改造）\n",
    "======"
   ]
  },
  {
   "cell_type": "code",
   "execution_count": 2,
   "metadata": {
    "collapsed": false
   },
   "outputs": [],
   "source": [
    "#历年前十大股东持股情况\n",
    "#df1为季度统计摘要，data1为前十大持股明细统计\n",
    "df1, data1 = ts.top10_holders(code='600000', gdtype='0') #gdtype等于1时表示流通股，默认为0 "
   ]
  },
  {
   "cell_type": "code",
   "execution_count": 3,
   "metadata": {
    "collapsed": false
   },
   "outputs": [],
   "source": [
    "df1 = df1.sort_values('quarter', ascending=True)"
   ]
  },
  {
   "cell_type": "code",
   "execution_count": 4,
   "metadata": {
    "collapsed": false
   },
   "outputs": [
    {
     "data": {
      "text/html": [
       "<div>\n",
       "<table border=\"1\" class=\"dataframe\">\n",
       "  <thead>\n",
       "    <tr style=\"text-align: right;\">\n",
       "      <th></th>\n",
       "      <th>quarter</th>\n",
       "      <th>amount</th>\n",
       "      <th>changed</th>\n",
       "      <th>props</th>\n",
       "    </tr>\n",
       "  </thead>\n",
       "  <tbody>\n",
       "    <tr>\n",
       "      <th>9</th>\n",
       "      <td>2014-12-31</td>\n",
       "      <td>910420.45</td>\n",
       "      <td>-9064.14</td>\n",
       "      <td>48.81</td>\n",
       "    </tr>\n",
       "    <tr>\n",
       "      <th>8</th>\n",
       "      <td>2015-03-31</td>\n",
       "      <td>912166.01</td>\n",
       "      <td>1745.56</td>\n",
       "      <td>48.90</td>\n",
       "    </tr>\n",
       "    <tr>\n",
       "      <th>7</th>\n",
       "      <td>2015-06-30</td>\n",
       "      <td>937424.47</td>\n",
       "      <td>25258.46</td>\n",
       "      <td>50.25</td>\n",
       "    </tr>\n",
       "    <tr>\n",
       "      <th>6</th>\n",
       "      <td>2015-09-30</td>\n",
       "      <td>1157483.27</td>\n",
       "      <td>220058.80</td>\n",
       "      <td>62.05</td>\n",
       "    </tr>\n",
       "    <tr>\n",
       "      <th>5</th>\n",
       "      <td>2015-12-31</td>\n",
       "      <td>1318904.08</td>\n",
       "      <td>161420.81</td>\n",
       "      <td>70.70</td>\n",
       "    </tr>\n",
       "    <tr>\n",
       "      <th>4</th>\n",
       "      <td>2016-03-15</td>\n",
       "      <td>1364799.92</td>\n",
       "      <td>45895.84</td>\n",
       "      <td>73.16</td>\n",
       "    </tr>\n",
       "    <tr>\n",
       "      <th>3</th>\n",
       "      <td>2016-03-18</td>\n",
       "      <td>1440154.76</td>\n",
       "      <td>75354.84</td>\n",
       "      <td>73.27</td>\n",
       "    </tr>\n",
       "    <tr>\n",
       "      <th>2</th>\n",
       "      <td>2016-03-31</td>\n",
       "      <td>1439599.89</td>\n",
       "      <td>-554.87</td>\n",
       "      <td>73.25</td>\n",
       "    </tr>\n",
       "    <tr>\n",
       "      <th>1</th>\n",
       "      <td>2016-06-30</td>\n",
       "      <td>1587371.15</td>\n",
       "      <td>147771.26</td>\n",
       "      <td>73.42</td>\n",
       "    </tr>\n",
       "    <tr>\n",
       "      <th>0</th>\n",
       "      <td>2016-09-30</td>\n",
       "      <td>1585130.30</td>\n",
       "      <td>-2240.85</td>\n",
       "      <td>73.32</td>\n",
       "    </tr>\n",
       "  </tbody>\n",
       "</table>\n",
       "</div>"
      ],
      "text/plain": [
       "      quarter      amount    changed  props\n",
       "9  2014-12-31   910420.45   -9064.14  48.81\n",
       "8  2015-03-31   912166.01    1745.56  48.90\n",
       "7  2015-06-30   937424.47   25258.46  50.25\n",
       "6  2015-09-30  1157483.27  220058.80  62.05\n",
       "5  2015-12-31  1318904.08  161420.81  70.70\n",
       "4  2016-03-15  1364799.92   45895.84  73.16\n",
       "3  2016-03-18  1440154.76   75354.84  73.27\n",
       "2  2016-03-31  1439599.89    -554.87  73.25\n",
       "1  2016-06-30  1587371.15  147771.26  73.42\n",
       "0  2016-09-30  1585130.30   -2240.85  73.32"
      ]
     },
     "execution_count": 4,
     "metadata": {},
     "output_type": "execute_result"
    }
   ],
   "source": [
    "df1.tail(10)"
   ]
  },
  {
   "cell_type": "code",
   "execution_count": 5,
   "metadata": {
    "collapsed": true
   },
   "outputs": [],
   "source": [
    "qts = list(df1['quarter'])\n",
    "data = list(df1['props'])"
   ]
  },
  {
   "cell_type": "code",
   "execution_count": 6,
   "metadata": {
    "collapsed": true
   },
   "outputs": [],
   "source": [
    "lgdstr = \"\"\"\n",
    "var axisData = \"\"\" + str(qts) + \"\"\";\n",
    "var data = \"\"\" + str(data) + \"\"\";\n",
    "var links = data.map(function (item, i) {\n",
    "    return {\n",
    "        source: i,\n",
    "        target: i + 1\n",
    "    };\n",
    "});\n",
    "links.pop();\n",
    "option = {\n",
    "    title: {\n",
    "        text: '【浦发银行】前十大流通股东持股占比'\n",
    "    },\n",
    "    tooltip: {\n",
    "        trigger: 'item'\n",
    "    },\n",
    "    xAxis: {\n",
    "        type : 'category',\n",
    "        boundaryGap : false,\n",
    "        data : axisData\n",
    "    },\n",
    "    yAxis: {\n",
    "        type : 'value'\n",
    "    },\n",
    "    series: [\n",
    "        {\n",
    "            type: 'line',\n",
    "            layout: 'none',\n",
    "            coordinateSystem: 'cartesian2d',\n",
    "            symbolSize: 10,\n",
    "            label: {\n",
    "                normal: {\n",
    "                    show: true\n",
    "                }\n",
    "            },\n",
    "            edgeSymbol: ['circle', 'arrow'],\n",
    "            edgeSymbolSize: [2, 5],\n",
    "            data: data,\n",
    "            links: links,\n",
    "            lineStyle: {\n",
    "                normal: {\n",
    "                    color: '#2f4554'\n",
    "                }\n",
    "            }\n",
    "        }\n",
    "    ]\n",
    "};\n",
    "\"\"\""
   ]
  },
  {
   "cell_type": "code",
   "execution_count": 7,
   "metadata": {
    "collapsed": true
   },
   "outputs": [],
   "source": [
    "headstr = \"\"\"\n",
    "<div id=\"showhere\" style=\"width:800px; height:600px;\"></div> \n",
    "<script> \n",
    "require.config({ paths:{ echarts: '//cdn.bootcss.com/echarts/3.2.3/echarts.min', } });\n",
    "require(['echarts'],function(ec){\n",
    "var myChart = ec.init(document.getElementById('showhere'));\n",
    "\"\"\"\n",
    "\n",
    "tailstr = \"\"\"\n",
    "myChart.setOption(option);\n",
    "    });\n",
    "</script>\n",
    "\"\"\""
   ]
  },
  {
   "cell_type": "code",
   "execution_count": 8,
   "metadata": {
    "collapsed": false
   },
   "outputs": [
    {
     "ename": "UnicodeDecodeError",
     "evalue": "'ascii' codec can't decode byte 0xe3 in position 1667: ordinal not in range(128)",
     "output_type": "error",
     "traceback": [
      "\u001b[1;31m---------------------------------------------------------------------------\u001b[0m",
      "\u001b[1;31mUnicodeDecodeError\u001b[0m                        Traceback (most recent call last)",
      "\u001b[1;32m<ipython-input-8-b0d8abfb9d1b>\u001b[0m in \u001b[0;36m<module>\u001b[1;34m()\u001b[0m\n\u001b[1;32m----> 1\u001b[1;33m \u001b[0mHTML\u001b[0m\u001b[1;33m(\u001b[0m\u001b[0mheadstr\u001b[0m \u001b[1;33m+\u001b[0m \u001b[0mlgdstr\u001b[0m \u001b[1;33m+\u001b[0m \u001b[0mtailstr\u001b[0m\u001b[1;33m)\u001b[0m\u001b[1;33m\u001b[0m\u001b[0m\n\u001b[0m",
      "\u001b[1;32mC:\\Users\\User\\Anaconda2\\lib\\site-packages\\IPython\\core\\displayhook.pyc\u001b[0m in \u001b[0;36m__call__\u001b[1;34m(self, result)\u001b[0m\n\u001b[0;32m    250\u001b[0m                 \u001b[0mself\u001b[0m\u001b[1;33m.\u001b[0m\u001b[0mwrite_format_data\u001b[0m\u001b[1;33m(\u001b[0m\u001b[0mformat_dict\u001b[0m\u001b[1;33m,\u001b[0m \u001b[0mmd_dict\u001b[0m\u001b[1;33m)\u001b[0m\u001b[1;33m\u001b[0m\u001b[0m\n\u001b[0;32m    251\u001b[0m                 \u001b[0mself\u001b[0m\u001b[1;33m.\u001b[0m\u001b[0mlog_output\u001b[0m\u001b[1;33m(\u001b[0m\u001b[0mformat_dict\u001b[0m\u001b[1;33m)\u001b[0m\u001b[1;33m\u001b[0m\u001b[0m\n\u001b[1;32m--> 252\u001b[1;33m             \u001b[0mself\u001b[0m\u001b[1;33m.\u001b[0m\u001b[0mfinish_displayhook\u001b[0m\u001b[1;33m(\u001b[0m\u001b[1;33m)\u001b[0m\u001b[1;33m\u001b[0m\u001b[0m\n\u001b[0m\u001b[0;32m    253\u001b[0m \u001b[1;33m\u001b[0m\u001b[0m\n\u001b[0;32m    254\u001b[0m     \u001b[1;32mdef\u001b[0m \u001b[0mcull_cache\u001b[0m\u001b[1;33m(\u001b[0m\u001b[0mself\u001b[0m\u001b[1;33m)\u001b[0m\u001b[1;33m:\u001b[0m\u001b[1;33m\u001b[0m\u001b[0m\n",
      "\u001b[1;32mC:\\Users\\User\\Anaconda2\\lib\\site-packages\\ipykernel\\displayhook.pyc\u001b[0m in \u001b[0;36mfinish_displayhook\u001b[1;34m(self)\u001b[0m\n\u001b[0;32m     69\u001b[0m         \u001b[0msys\u001b[0m\u001b[1;33m.\u001b[0m\u001b[0mstderr\u001b[0m\u001b[1;33m.\u001b[0m\u001b[0mflush\u001b[0m\u001b[1;33m(\u001b[0m\u001b[1;33m)\u001b[0m\u001b[1;33m\u001b[0m\u001b[0m\n\u001b[0;32m     70\u001b[0m         \u001b[1;32mif\u001b[0m \u001b[0mself\u001b[0m\u001b[1;33m.\u001b[0m\u001b[0mmsg\u001b[0m\u001b[1;33m[\u001b[0m\u001b[1;34m'content'\u001b[0m\u001b[1;33m]\u001b[0m\u001b[1;33m[\u001b[0m\u001b[1;34m'data'\u001b[0m\u001b[1;33m]\u001b[0m\u001b[1;33m:\u001b[0m\u001b[1;33m\u001b[0m\u001b[0m\n\u001b[1;32m---> 71\u001b[1;33m             \u001b[0mself\u001b[0m\u001b[1;33m.\u001b[0m\u001b[0msession\u001b[0m\u001b[1;33m.\u001b[0m\u001b[0msend\u001b[0m\u001b[1;33m(\u001b[0m\u001b[0mself\u001b[0m\u001b[1;33m.\u001b[0m\u001b[0mpub_socket\u001b[0m\u001b[1;33m,\u001b[0m \u001b[0mself\u001b[0m\u001b[1;33m.\u001b[0m\u001b[0mmsg\u001b[0m\u001b[1;33m,\u001b[0m \u001b[0mident\u001b[0m\u001b[1;33m=\u001b[0m\u001b[0mself\u001b[0m\u001b[1;33m.\u001b[0m\u001b[0mtopic\u001b[0m\u001b[1;33m)\u001b[0m\u001b[1;33m\u001b[0m\u001b[0m\n\u001b[0m\u001b[0;32m     72\u001b[0m         \u001b[0mself\u001b[0m\u001b[1;33m.\u001b[0m\u001b[0mmsg\u001b[0m \u001b[1;33m=\u001b[0m \u001b[0mNone\u001b[0m\u001b[1;33m\u001b[0m\u001b[0m\n",
      "\u001b[1;32mC:\\Users\\User\\Anaconda2\\lib\\site-packages\\jupyter_client\\session.pyc\u001b[0m in \u001b[0;36msend\u001b[1;34m(self, stream, msg_or_type, content, parent, ident, buffers, track, header, metadata)\u001b[0m\n\u001b[0;32m    671\u001b[0m         \u001b[1;32mif\u001b[0m \u001b[0mself\u001b[0m\u001b[1;33m.\u001b[0m\u001b[0madapt_version\u001b[0m\u001b[1;33m:\u001b[0m\u001b[1;33m\u001b[0m\u001b[0m\n\u001b[0;32m    672\u001b[0m             \u001b[0mmsg\u001b[0m \u001b[1;33m=\u001b[0m \u001b[0madapt\u001b[0m\u001b[1;33m(\u001b[0m\u001b[0mmsg\u001b[0m\u001b[1;33m,\u001b[0m \u001b[0mself\u001b[0m\u001b[1;33m.\u001b[0m\u001b[0madapt_version\u001b[0m\u001b[1;33m)\u001b[0m\u001b[1;33m\u001b[0m\u001b[0m\n\u001b[1;32m--> 673\u001b[1;33m         \u001b[0mto_send\u001b[0m \u001b[1;33m=\u001b[0m \u001b[0mself\u001b[0m\u001b[1;33m.\u001b[0m\u001b[0mserialize\u001b[0m\u001b[1;33m(\u001b[0m\u001b[0mmsg\u001b[0m\u001b[1;33m,\u001b[0m \u001b[0mident\u001b[0m\u001b[1;33m)\u001b[0m\u001b[1;33m\u001b[0m\u001b[0m\n\u001b[0m\u001b[0;32m    674\u001b[0m         \u001b[0mto_send\u001b[0m\u001b[1;33m.\u001b[0m\u001b[0mextend\u001b[0m\u001b[1;33m(\u001b[0m\u001b[0mbuffers\u001b[0m\u001b[1;33m)\u001b[0m\u001b[1;33m\u001b[0m\u001b[0m\n\u001b[0;32m    675\u001b[0m         \u001b[0mlongest\u001b[0m \u001b[1;33m=\u001b[0m \u001b[0mmax\u001b[0m\u001b[1;33m(\u001b[0m\u001b[1;33m[\u001b[0m \u001b[0mlen\u001b[0m\u001b[1;33m(\u001b[0m\u001b[0ms\u001b[0m\u001b[1;33m)\u001b[0m \u001b[1;32mfor\u001b[0m \u001b[0ms\u001b[0m \u001b[1;32min\u001b[0m \u001b[0mto_send\u001b[0m \u001b[1;33m]\u001b[0m\u001b[1;33m)\u001b[0m\u001b[1;33m\u001b[0m\u001b[0m\n",
      "\u001b[1;32mC:\\Users\\User\\Anaconda2\\lib\\site-packages\\jupyter_client\\session.pyc\u001b[0m in \u001b[0;36mserialize\u001b[1;34m(self, msg, ident)\u001b[0m\n\u001b[0;32m    574\u001b[0m             \u001b[0mcontent\u001b[0m \u001b[1;33m=\u001b[0m \u001b[0mself\u001b[0m\u001b[1;33m.\u001b[0m\u001b[0mnone\u001b[0m\u001b[1;33m\u001b[0m\u001b[0m\n\u001b[0;32m    575\u001b[0m         \u001b[1;32melif\u001b[0m \u001b[0misinstance\u001b[0m\u001b[1;33m(\u001b[0m\u001b[0mcontent\u001b[0m\u001b[1;33m,\u001b[0m \u001b[0mdict\u001b[0m\u001b[1;33m)\u001b[0m\u001b[1;33m:\u001b[0m\u001b[1;33m\u001b[0m\u001b[0m\n\u001b[1;32m--> 576\u001b[1;33m             \u001b[0mcontent\u001b[0m \u001b[1;33m=\u001b[0m \u001b[0mself\u001b[0m\u001b[1;33m.\u001b[0m\u001b[0mpack\u001b[0m\u001b[1;33m(\u001b[0m\u001b[0mcontent\u001b[0m\u001b[1;33m)\u001b[0m\u001b[1;33m\u001b[0m\u001b[0m\n\u001b[0m\u001b[0;32m    577\u001b[0m         \u001b[1;32melif\u001b[0m \u001b[0misinstance\u001b[0m\u001b[1;33m(\u001b[0m\u001b[0mcontent\u001b[0m\u001b[1;33m,\u001b[0m \u001b[0mbytes\u001b[0m\u001b[1;33m)\u001b[0m\u001b[1;33m:\u001b[0m\u001b[1;33m\u001b[0m\u001b[0m\n\u001b[0;32m    578\u001b[0m             \u001b[1;31m# content is already packed, as in a relayed message\u001b[0m\u001b[1;33m\u001b[0m\u001b[1;33m\u001b[0m\u001b[0m\n",
      "\u001b[1;32mC:\\Users\\User\\Anaconda2\\lib\\site-packages\\jupyter_client\\session.pyc\u001b[0m in \u001b[0;36m<lambda>\u001b[1;34m(obj)\u001b[0m\n\u001b[0;32m     93\u001b[0m \u001b[1;31m# disallow nan, because it's not actually valid JSON\u001b[0m\u001b[1;33m\u001b[0m\u001b[1;33m\u001b[0m\u001b[0m\n\u001b[0;32m     94\u001b[0m json_packer = lambda obj: jsonapi.dumps(obj, default=date_default,\n\u001b[1;32m---> 95\u001b[1;33m     \u001b[0mensure_ascii\u001b[0m\u001b[1;33m=\u001b[0m\u001b[0mFalse\u001b[0m\u001b[1;33m,\u001b[0m \u001b[0mallow_nan\u001b[0m\u001b[1;33m=\u001b[0m\u001b[0mFalse\u001b[0m\u001b[1;33m,\u001b[0m\u001b[1;33m\u001b[0m\u001b[0m\n\u001b[0m\u001b[0;32m     96\u001b[0m )\n\u001b[0;32m     97\u001b[0m \u001b[0mjson_unpacker\u001b[0m \u001b[1;33m=\u001b[0m \u001b[1;32mlambda\u001b[0m \u001b[0ms\u001b[0m\u001b[1;33m:\u001b[0m \u001b[0mjsonapi\u001b[0m\u001b[1;33m.\u001b[0m\u001b[0mloads\u001b[0m\u001b[1;33m(\u001b[0m\u001b[0ms\u001b[0m\u001b[1;33m)\u001b[0m\u001b[1;33m\u001b[0m\u001b[0m\n",
      "\u001b[1;32mC:\\Users\\User\\Anaconda2\\lib\\site-packages\\zmq\\utils\\jsonapi.pyc\u001b[0m in \u001b[0;36mdumps\u001b[1;34m(o, **kwargs)\u001b[0m\n\u001b[0;32m     38\u001b[0m         \u001b[0mkwargs\u001b[0m\u001b[1;33m[\u001b[0m\u001b[1;34m'separators'\u001b[0m\u001b[1;33m]\u001b[0m \u001b[1;33m=\u001b[0m \u001b[1;33m(\u001b[0m\u001b[1;34m','\u001b[0m\u001b[1;33m,\u001b[0m \u001b[1;34m':'\u001b[0m\u001b[1;33m)\u001b[0m\u001b[1;33m\u001b[0m\u001b[0m\n\u001b[0;32m     39\u001b[0m \u001b[1;33m\u001b[0m\u001b[0m\n\u001b[1;32m---> 40\u001b[1;33m     \u001b[0ms\u001b[0m \u001b[1;33m=\u001b[0m \u001b[0mjsonmod\u001b[0m\u001b[1;33m.\u001b[0m\u001b[0mdumps\u001b[0m\u001b[1;33m(\u001b[0m\u001b[0mo\u001b[0m\u001b[1;33m,\u001b[0m \u001b[1;33m**\u001b[0m\u001b[0mkwargs\u001b[0m\u001b[1;33m)\u001b[0m\u001b[1;33m\u001b[0m\u001b[0m\n\u001b[0m\u001b[0;32m     41\u001b[0m \u001b[1;33m\u001b[0m\u001b[0m\n\u001b[0;32m     42\u001b[0m     \u001b[1;32mif\u001b[0m \u001b[0misinstance\u001b[0m\u001b[1;33m(\u001b[0m\u001b[0ms\u001b[0m\u001b[1;33m,\u001b[0m \u001b[0municode\u001b[0m\u001b[1;33m)\u001b[0m\u001b[1;33m:\u001b[0m\u001b[1;33m\u001b[0m\u001b[0m\n",
      "\u001b[1;32mC:\\Users\\User\\Anaconda2\\lib\\json\\__init__.pyc\u001b[0m in \u001b[0;36mdumps\u001b[1;34m(obj, skipkeys, ensure_ascii, check_circular, allow_nan, cls, indent, separators, encoding, default, sort_keys, **kw)\u001b[0m\n\u001b[0;32m    249\u001b[0m         \u001b[0mcheck_circular\u001b[0m\u001b[1;33m=\u001b[0m\u001b[0mcheck_circular\u001b[0m\u001b[1;33m,\u001b[0m \u001b[0mallow_nan\u001b[0m\u001b[1;33m=\u001b[0m\u001b[0mallow_nan\u001b[0m\u001b[1;33m,\u001b[0m \u001b[0mindent\u001b[0m\u001b[1;33m=\u001b[0m\u001b[0mindent\u001b[0m\u001b[1;33m,\u001b[0m\u001b[1;33m\u001b[0m\u001b[0m\n\u001b[0;32m    250\u001b[0m         \u001b[0mseparators\u001b[0m\u001b[1;33m=\u001b[0m\u001b[0mseparators\u001b[0m\u001b[1;33m,\u001b[0m \u001b[0mencoding\u001b[0m\u001b[1;33m=\u001b[0m\u001b[0mencoding\u001b[0m\u001b[1;33m,\u001b[0m \u001b[0mdefault\u001b[0m\u001b[1;33m=\u001b[0m\u001b[0mdefault\u001b[0m\u001b[1;33m,\u001b[0m\u001b[1;33m\u001b[0m\u001b[0m\n\u001b[1;32m--> 251\u001b[1;33m         sort_keys=sort_keys, **kw).encode(obj)\n\u001b[0m\u001b[0;32m    252\u001b[0m \u001b[1;33m\u001b[0m\u001b[0m\n\u001b[0;32m    253\u001b[0m \u001b[1;33m\u001b[0m\u001b[0m\n",
      "\u001b[1;32mC:\\Users\\User\\Anaconda2\\lib\\json\\encoder.pyc\u001b[0m in \u001b[0;36mencode\u001b[1;34m(self, o)\u001b[0m\n\u001b[0;32m    208\u001b[0m         \u001b[1;32mif\u001b[0m \u001b[1;32mnot\u001b[0m \u001b[0misinstance\u001b[0m\u001b[1;33m(\u001b[0m\u001b[0mchunks\u001b[0m\u001b[1;33m,\u001b[0m \u001b[1;33m(\u001b[0m\u001b[0mlist\u001b[0m\u001b[1;33m,\u001b[0m \u001b[0mtuple\u001b[0m\u001b[1;33m)\u001b[0m\u001b[1;33m)\u001b[0m\u001b[1;33m:\u001b[0m\u001b[1;33m\u001b[0m\u001b[0m\n\u001b[0;32m    209\u001b[0m             \u001b[0mchunks\u001b[0m \u001b[1;33m=\u001b[0m \u001b[0mlist\u001b[0m\u001b[1;33m(\u001b[0m\u001b[0mchunks\u001b[0m\u001b[1;33m)\u001b[0m\u001b[1;33m\u001b[0m\u001b[0m\n\u001b[1;32m--> 210\u001b[1;33m         \u001b[1;32mreturn\u001b[0m \u001b[1;34m''\u001b[0m\u001b[1;33m.\u001b[0m\u001b[0mjoin\u001b[0m\u001b[1;33m(\u001b[0m\u001b[0mchunks\u001b[0m\u001b[1;33m)\u001b[0m\u001b[1;33m\u001b[0m\u001b[0m\n\u001b[0m\u001b[0;32m    211\u001b[0m \u001b[1;33m\u001b[0m\u001b[0m\n\u001b[0;32m    212\u001b[0m     \u001b[1;32mdef\u001b[0m \u001b[0miterencode\u001b[0m\u001b[1;33m(\u001b[0m\u001b[0mself\u001b[0m\u001b[1;33m,\u001b[0m \u001b[0mo\u001b[0m\u001b[1;33m,\u001b[0m \u001b[0m_one_shot\u001b[0m\u001b[1;33m=\u001b[0m\u001b[0mFalse\u001b[0m\u001b[1;33m)\u001b[0m\u001b[1;33m:\u001b[0m\u001b[1;33m\u001b[0m\u001b[0m\n",
      "\u001b[1;31mUnicodeDecodeError\u001b[0m: 'ascii' codec can't decode byte 0xe3 in position 1667: ordinal not in range(128)"
     ]
    }
   ],
   "source": [
    "HTML(headstr + lgdstr + tailstr)"
   ]
  },
  {
   "cell_type": "markdown",
   "metadata": {},
   "source": [
    "2、饼图效果\n",
    "======"
   ]
  },
  {
   "cell_type": "code",
   "execution_count": 9,
   "metadata": {
    "collapsed": true
   },
   "outputs": [],
   "source": [
    "#浦发银行2016三季度前十大流通股东情况\n",
    "df2, data2 = ts.top10_holders(code='600000', year=2016, quarter=3, gdtype='1')"
   ]
  },
  {
   "cell_type": "code",
   "execution_count": 10,
   "metadata": {
    "collapsed": false,
    "scrolled": true
   },
   "outputs": [
    {
     "data": {
      "text/html": [
       "<div>\n",
       "<table border=\"1\" class=\"dataframe\">\n",
       "  <thead>\n",
       "    <tr style=\"text-align: right;\">\n",
       "      <th></th>\n",
       "      <th>quarter</th>\n",
       "      <th>name</th>\n",
       "      <th>hold</th>\n",
       "      <th>h_pro</th>\n",
       "      <th>sharetype</th>\n",
       "      <th>status</th>\n",
       "    </tr>\n",
       "  </thead>\n",
       "  <tbody>\n",
       "    <tr>\n",
       "      <th>0</th>\n",
       "      <td>2016-09-30</td>\n",
       "      <td>中国移动通信集团广东有限公司</td>\n",
       "      <td>410376.37</td>\n",
       "      <td>20.00</td>\n",
       "      <td>流通A股</td>\n",
       "      <td>未变</td>\n",
       "    </tr>\n",
       "    <tr>\n",
       "      <th>1</th>\n",
       "      <td>2016-09-30</td>\n",
       "      <td>上海国际集团有限公司</td>\n",
       "      <td>347326.53</td>\n",
       "      <td>16.93</td>\n",
       "      <td>流通A股</td>\n",
       "      <td>未变</td>\n",
       "    </tr>\n",
       "    <tr>\n",
       "      <th>2</th>\n",
       "      <td>2016-09-30</td>\n",
       "      <td>富德生命人寿保险股份有限公司－传统</td>\n",
       "      <td>213802.87</td>\n",
       "      <td>10.42</td>\n",
       "      <td>流通A股</td>\n",
       "      <td>未变</td>\n",
       "    </tr>\n",
       "    <tr>\n",
       "      <th>3</th>\n",
       "      <td>2016-09-30</td>\n",
       "      <td>富德生命人寿保险股份有限公司－资本金</td>\n",
       "      <td>135633.26</td>\n",
       "      <td>6.61</td>\n",
       "      <td>流通A股</td>\n",
       "      <td>未变</td>\n",
       "    </tr>\n",
       "    <tr>\n",
       "      <th>4</th>\n",
       "      <td>2016-09-30</td>\n",
       "      <td>上海上国投资产管理有限公司</td>\n",
       "      <td>107351.62</td>\n",
       "      <td>5.23</td>\n",
       "      <td>流通A股</td>\n",
       "      <td>未变</td>\n",
       "    </tr>\n",
       "    <tr>\n",
       "      <th>5</th>\n",
       "      <td>2016-09-30</td>\n",
       "      <td>富德生命人寿保险股份有限公司－万能H</td>\n",
       "      <td>97725.28</td>\n",
       "      <td>4.76</td>\n",
       "      <td>流通A股</td>\n",
       "      <td>未变</td>\n",
       "    </tr>\n",
       "    <tr>\n",
       "      <th>6</th>\n",
       "      <td>2016-09-30</td>\n",
       "      <td>梧桐树投资平台有限责任公司</td>\n",
       "      <td>68163.95</td>\n",
       "      <td>3.32</td>\n",
       "      <td>流通A股</td>\n",
       "      <td>未变</td>\n",
       "    </tr>\n",
       "    <tr>\n",
       "      <th>7</th>\n",
       "      <td>2016-09-30</td>\n",
       "      <td>中国证券金融股份有限公司</td>\n",
       "      <td>57684.91</td>\n",
       "      <td>2.81</td>\n",
       "      <td>流通A股</td>\n",
       "      <td>-2240.85</td>\n",
       "    </tr>\n",
       "    <tr>\n",
       "      <th>8</th>\n",
       "      <td>2016-09-30</td>\n",
       "      <td>上海国鑫投资发展有限公司</td>\n",
       "      <td>41481.22</td>\n",
       "      <td>2.02</td>\n",
       "      <td>流通A股</td>\n",
       "      <td>未变</td>\n",
       "    </tr>\n",
       "    <tr>\n",
       "      <th>9</th>\n",
       "      <td>2016-09-30</td>\n",
       "      <td>中央汇金资产管理有限责任公司</td>\n",
       "      <td>30655.49</td>\n",
       "      <td>1.49</td>\n",
       "      <td>流通A股</td>\n",
       "      <td>未变</td>\n",
       "    </tr>\n",
       "  </tbody>\n",
       "</table>\n",
       "</div>"
      ],
      "text/plain": [
       "      quarter                name       hold  h_pro sharetype    status\n",
       "0  2016-09-30      中国移动通信集团广东有限公司  410376.37  20.00      流通A股        未变\n",
       "1  2016-09-30          上海国际集团有限公司  347326.53  16.93      流通A股        未变\n",
       "2  2016-09-30   富德生命人寿保险股份有限公司－传统  213802.87  10.42      流通A股        未变\n",
       "3  2016-09-30  富德生命人寿保险股份有限公司－资本金  135633.26   6.61      流通A股        未变\n",
       "4  2016-09-30       上海上国投资产管理有限公司  107351.62   5.23      流通A股        未变\n",
       "5  2016-09-30  富德生命人寿保险股份有限公司－万能H   97725.28   4.76      流通A股        未变\n",
       "6  2016-09-30       梧桐树投资平台有限责任公司   68163.95   3.32      流通A股        未变\n",
       "7  2016-09-30        中国证券金融股份有限公司   57684.91   2.81      流通A股  -2240.85\n",
       "8  2016-09-30        上海国鑫投资发展有限公司   41481.22   2.02      流通A股        未变\n",
       "9  2016-09-30      中央汇金资产管理有限责任公司   30655.49   1.49      流通A股        未变"
      ]
     },
     "execution_count": 10,
     "metadata": {},
     "output_type": "execute_result"
    }
   ],
   "source": [
    "data2"
   ]
  },
  {
   "cell_type": "code",
   "execution_count": 11,
   "metadata": {
    "collapsed": true
   },
   "outputs": [],
   "source": [
    "#取前十大流通股东名称\n",
    "top10name = str(list(data2['name']))"
   ]
  },
  {
   "cell_type": "code",
   "execution_count": 12,
   "metadata": {
    "collapsed": true
   },
   "outputs": [],
   "source": [
    "valstrs = ''\n",
    "for idx in data2.index:\n",
    "    s = '{value: %s, name: \\'%s\\'}' % (data2.ix[idx]['h_pro'], data2.ix[idx]['name'])\n",
    "    valstrs += s + ','\n",
    "valstrs = valstrs[:-1]"
   ]
  },
  {
   "cell_type": "code",
   "execution_count": 13,
   "metadata": {
    "collapsed": false
   },
   "outputs": [
    {
     "ename": "UnicodeDecodeError",
     "evalue": "'ascii' codec can't decode byte 0xe5 in position 1121: ordinal not in range(128)",
     "output_type": "error",
     "traceback": [
      "\u001b[1;31m---------------------------------------------------------------------------\u001b[0m",
      "\u001b[1;31mUnicodeDecodeError\u001b[0m                        Traceback (most recent call last)",
      "\u001b[1;32m<ipython-input-13-a71194309270>\u001b[0m in \u001b[0;36m<module>\u001b[1;34m()\u001b[0m\n\u001b[0;32m     35\u001b[0m             },\n\u001b[0;32m     36\u001b[0m             data:[\n\u001b[1;32m---> 37\u001b[1;33m                 \u001b[1;34m\"\"\" + valstrs + \"\"\"\u001b[0m\u001b[1;33m\u001b[0m\u001b[0m\n\u001b[0m\u001b[0;32m     38\u001b[0m             ]\n\u001b[0;32m     39\u001b[0m         }\n",
      "\u001b[1;31mUnicodeDecodeError\u001b[0m: 'ascii' codec can't decode byte 0xe5 in position 1121: ordinal not in range(128)"
     ]
    }
   ],
   "source": [
    "datacontent = \"\"\"\n",
    "option = {\n",
    "    tooltip: {\n",
    "        trigger: 'item',\n",
    "        formatter: \"{a} <br/>{b}: {c} ({d}%)\"\n",
    "    },\n",
    "    legend: {\n",
    "        orient: 'vertical',\n",
    "        x: 'left',\n",
    "        data: \"\"\" + top10name +\"\"\"\n",
    "    },\n",
    "    series: [\n",
    "        {\n",
    "            name:'前十大流通股东：',\n",
    "            type:'pie',\n",
    "            radius: ['50%', '70%'],\n",
    "            avoidLabelOverlap: false,\n",
    "            label: {\n",
    "                normal: {\n",
    "                    show: false,\n",
    "                    position: 'center'\n",
    "                },\n",
    "                emphasis: {\n",
    "                    show: true,\n",
    "                    textStyle: {\n",
    "                        fontSize: '30',\n",
    "                        fontWeight: 'bold'\n",
    "                    }\n",
    "                }\n",
    "            },\n",
    "            labelLine: {\n",
    "                normal: {\n",
    "                    show: false\n",
    "                }\n",
    "            },\n",
    "            data:[\n",
    "                \"\"\" + valstrs + \"\"\"\n",
    "            ]\n",
    "        }\n",
    "    ]\n",
    "};\n",
    "\n",
    "\"\"\""
   ]
  },
  {
   "cell_type": "code",
   "execution_count": 14,
   "metadata": {
    "collapsed": true
   },
   "outputs": [],
   "source": [
    "headstr = \"\"\"\n",
    "<div id=\"mychart\" style=\"width:800px; height:600px;\"></div> \n",
    "<script> \n",
    "require.config({ paths:{ echarts: '//cdn.bootcss.com/echarts/3.2.3/echarts.min', } });\n",
    "require(['echarts'],function(ec){\n",
    "var myChart = ec.init(document.getElementById('mychart'));\n",
    "\"\"\"\n",
    "\n",
    "tailstr = \"\"\"\n",
    "myChart.setOption(option);\n",
    "    });\n",
    "</script>\n",
    "\"\"\""
   ]
  },
  {
   "cell_type": "code",
   "execution_count": null,
   "metadata": {
    "collapsed": false
   },
   "outputs": [],
   "source": [
    "HTML(headstr + datacontent + tailstr)"
   ]
  },
  {
   "cell_type": "markdown",
   "metadata": {},
   "source": [
    "3、K线效果演示\n",
    "========="
   ]
  },
  {
   "cell_type": "code",
   "execution_count": 15,
   "metadata": {
    "collapsed": true
   },
   "outputs": [],
   "source": [
    "#中国联通前复权数据\n",
    "df = ts.get_k_data('600050', start='2016-01-01', end='2016-12-02')\n",
    "datastr = ''\n",
    "for idx in df.index:\n",
    "    rowstr = '[\\'%s\\',%s,%s,%s,%s]' % (df.ix[idx]['date'], df.ix[idx]['open'], \n",
    "                                           df.ix[idx]['close'], df.ix[idx]['low'], \n",
    "                                           df.ix[idx]['high'])\n",
    "    datastr += rowstr + ','\n",
    "datastr = datastr[:-1]"
   ]
  },
  {
   "cell_type": "code",
   "execution_count": 16,
   "metadata": {
    "collapsed": true
   },
   "outputs": [],
   "source": [
    "#取股票名称\n",
    "name = ts.get_realtime_quotes('600050')['name'][0]"
   ]
  },
  {
   "cell_type": "code",
   "execution_count": 17,
   "metadata": {
    "collapsed": true
   },
   "outputs": [],
   "source": [
    "datahead = \"\"\"\n",
    "<div id=\"chart\" style=\"width:800px; height:600px;\"></div> \n",
    "<script> \n",
    "require.config({ paths:{ echarts: '//cdn.bootcss.com/echarts/3.2.3/echarts.min', } });\n",
    "require(['echarts'],function(ec){\n",
    "var myChart = ec.init(document.getElementById('chart'));\n",
    "\"\"\"\n",
    "datavar = 'var data0 = splitData([%s]);' % datastr\n",
    "funcstr = \"\"\"\n",
    "function splitData(rawData) {\n",
    "    var categoryData = [];\n",
    "    var values = []\n",
    "    for (var i = 0; i < rawData.length; i++) {\n",
    "        categoryData.push(rawData[i].splice(0, 1)[0]);\n",
    "        values.push(rawData[i])\n",
    "    }\n",
    "    return {\n",
    "        categoryData: categoryData,\n",
    "        values: values\n",
    "    };\n",
    "}\n",
    "\n",
    "function calculateMA(dayCount) {\n",
    "    var result = [];\n",
    "    for (var i = 0, len = data0.values.length; i < len; i++) {\n",
    "        if (i < dayCount) {\n",
    "            result.push('-');\n",
    "            continue;\n",
    "        }\n",
    "        var sum = 0;\n",
    "        for (var j = 0; j < dayCount; j++) {\n",
    "            sum += data0.values[i - j][1];\n",
    "        }\n",
    "        result.push((sum / dayCount).toFixed(2));\n",
    "    }\n",
    "    return result;\n",
    "}\n",
    "\n",
    "option = {\n",
    "    title: {\n",
    "\"\"\"\n",
    "\n",
    "namestr = 'text: \\'%s\\',' %name\n",
    "\n",
    "functail = \"\"\"\n",
    "        left: 0\n",
    "    },\n",
    "    tooltip: {\n",
    "        trigger: 'axis',\n",
    "        axisPointer: {\n",
    "            type: 'line'\n",
    "        }\n",
    "    },\n",
    "    legend: {\n",
    "        data: ['日K', 'MA5', 'MA10', 'MA20', 'MA30']\n",
    "    },\n",
    "    grid: {\n",
    "        left: '10%',\n",
    "        right: '10%',\n",
    "        bottom: '15%'\n",
    "    },\n",
    "    xAxis: {\n",
    "        type: 'category',\n",
    "        data: data0.categoryData,\n",
    "        scale: true,\n",
    "        boundaryGap : false,\n",
    "        axisLine: {onZero: false},\n",
    "        splitLine: {show: false},\n",
    "        splitNumber: 20,\n",
    "        min: 'dataMin',\n",
    "        max: 'dataMax'\n",
    "    },\n",
    "    yAxis: {\n",
    "        scale: true,\n",
    "        splitArea: {\n",
    "            show: true\n",
    "        }\n",
    "    },\n",
    "    dataZoom: [\n",
    "        {\n",
    "            type: 'inside',\n",
    "            start: 50,\n",
    "            end: 100\n",
    "        },\n",
    "        {\n",
    "            show: true,\n",
    "            type: 'slider',\n",
    "            y: '90%',\n",
    "            start: 50,\n",
    "            end: 100\n",
    "        }\n",
    "    ],\n",
    "    series: [\n",
    "        {\n",
    "            name: '日K',\n",
    "            type: 'candlestick',\n",
    "            data: data0.values,\n",
    "            markPoint: {\n",
    "                label: {\n",
    "                    normal: {\n",
    "                        formatter: function (param) {\n",
    "                            return param != null ? Math.round(param.value) : '';\n",
    "                        }\n",
    "                    }\n",
    "                },\n",
    "                data: [\n",
    "                    {\n",
    "                        name: '标点',\n",
    "                        coord: ['2013/5/31', 2300],\n",
    "                        value: 2300,\n",
    "                        itemStyle: {\n",
    "                            normal: {color: 'rgb(41,60,85)'}\n",
    "                        }\n",
    "                    },\n",
    "                    {\n",
    "                        name: 'highest value',\n",
    "                        type: 'max',\n",
    "                        valueDim: 'highest'\n",
    "                    },\n",
    "                    {\n",
    "                        name: 'lowest value',\n",
    "                        type: 'min',\n",
    "                        valueDim: 'lowest'\n",
    "                    },\n",
    "                    {\n",
    "                        name: 'average value on close',\n",
    "                        type: 'average',\n",
    "                        valueDim: 'close'\n",
    "                    }\n",
    "                ],\n",
    "                tooltip: {\n",
    "                    formatter: function (param) {\n",
    "                        return param.name + '<br>' + (param.data.coord || '');\n",
    "                    }\n",
    "                }\n",
    "            },\n",
    "            markLine: {\n",
    "                symbol: ['none', 'none'],\n",
    "                data: [\n",
    "                    [\n",
    "                        {\n",
    "                            name: 'from lowest to highest',\n",
    "                            type: 'min',\n",
    "                            valueDim: 'lowest',\n",
    "                            symbol: 'circle',\n",
    "                            symbolSize: 10,\n",
    "                            label: {\n",
    "                                normal: {show: false},\n",
    "                                emphasis: {show: false}\n",
    "                            }\n",
    "                        },\n",
    "                        {\n",
    "                            type: 'max',\n",
    "                            valueDim: 'highest',\n",
    "                            symbol: 'circle',\n",
    "                            symbolSize: 10,\n",
    "                            label: {\n",
    "                                normal: {show: false},\n",
    "                                emphasis: {show: false}\n",
    "                            }\n",
    "                        }\n",
    "                    ],\n",
    "                    {\n",
    "                        name: 'min line on close',\n",
    "                        type: 'min',\n",
    "                        valueDim: 'close'\n",
    "                    },\n",
    "                    {\n",
    "                        name: 'max line on close',\n",
    "                        type: 'max',\n",
    "                        valueDim: 'close'\n",
    "                    }\n",
    "                ]\n",
    "            }\n",
    "        },\n",
    "        {\n",
    "            name: 'MA5',\n",
    "            type: 'line',\n",
    "            data: calculateMA(5),\n",
    "            smooth: true,\n",
    "            lineStyle: {\n",
    "                normal: {opacity: 0.5}\n",
    "            }\n",
    "        },\n",
    "        {\n",
    "            name: 'MA10',\n",
    "            type: 'line',\n",
    "            data: calculateMA(10),\n",
    "            smooth: true,\n",
    "            lineStyle: {\n",
    "                normal: {opacity: 0.5}\n",
    "            }\n",
    "        },\n",
    "        {\n",
    "            name: 'MA20',\n",
    "            type: 'line',\n",
    "            data: calculateMA(20),\n",
    "            smooth: true,\n",
    "            lineStyle: {\n",
    "                normal: {opacity: 0.5}\n",
    "            }\n",
    "        },\n",
    "        {\n",
    "            name: 'MA30',\n",
    "            type: 'line',\n",
    "            data: calculateMA(30),\n",
    "            smooth: true,\n",
    "            lineStyle: {\n",
    "                normal: {opacity: 0.5}\n",
    "            }\n",
    "        },\n",
    "\n",
    "    ]\n",
    "};\n",
    "myChart.setOption(option);\n",
    "    });\n",
    "</script>\n",
    "\"\"\""
   ]
  },
  {
   "cell_type": "code",
   "execution_count": 18,
   "metadata": {
    "collapsed": false
   },
   "outputs": [
    {
     "ename": "UnicodeDecodeError",
     "evalue": "'ascii' codec can't decode byte 0xe6 in position 159: ordinal not in range(128)",
     "output_type": "error",
     "traceback": [
      "\u001b[1;31m---------------------------------------------------------------------------\u001b[0m",
      "\u001b[1;31mUnicodeDecodeError\u001b[0m                        Traceback (most recent call last)",
      "\u001b[1;32m<ipython-input-18-847dd13d7ad8>\u001b[0m in \u001b[0;36m<module>\u001b[1;34m()\u001b[0m\n\u001b[1;32m----> 1\u001b[1;33m \u001b[0mHTML\u001b[0m\u001b[1;33m(\u001b[0m\u001b[0mdatahead\u001b[0m \u001b[1;33m+\u001b[0m \u001b[0mdatavar\u001b[0m \u001b[1;33m+\u001b[0m \u001b[0mfuncstr\u001b[0m \u001b[1;33m+\u001b[0m \u001b[0mnamestr\u001b[0m \u001b[1;33m+\u001b[0m \u001b[0mfunctail\u001b[0m\u001b[1;33m)\u001b[0m\u001b[1;33m\u001b[0m\u001b[0m\n\u001b[0m",
      "\u001b[1;31mUnicodeDecodeError\u001b[0m: 'ascii' codec can't decode byte 0xe6 in position 159: ordinal not in range(128)"
     ]
    }
   ],
   "source": [
    "HTML(datahead + datavar + funcstr + namestr + functail)"
   ]
  },
  {
   "cell_type": "code",
   "execution_count": null,
   "metadata": {
    "collapsed": true
   },
   "outputs": [],
   "source": []
  },
  {
   "cell_type": "code",
   "execution_count": null,
   "metadata": {
    "collapsed": true
   },
   "outputs": [],
   "source": []
  }
 ],
 "metadata": {
  "anaconda-cloud": {},
  "kernelspec": {
   "display_name": "Python 2",
   "language": "python",
   "name": "python2"
  },
  "language_info": {
   "codemirror_mode": {
    "name": "ipython",
    "version": 2
   },
   "file_extension": ".py",
   "mimetype": "text/x-python",
   "name": "python",
   "nbconvert_exporter": "python",
   "pygments_lexer": "ipython2",
   "version": "2.7.12"
  }
 },
 "nbformat": 4,
 "nbformat_minor": 1
}
